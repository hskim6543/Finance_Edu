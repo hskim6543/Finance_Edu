{
 "cells": [
  {
   "cell_type": "markdown",
   "metadata": {},
   "source": [
    "## Objective"
   ]
  },
  {
   "cell_type": "markdown",
   "metadata": {},
   "source": [
    "- 본 교과의 목표는 python에 대한 기초 습득, python을 이용한 금융자료의 구득, 분석, 금융모형의 적합성 여부를 공부하는데 있다. \n",
    "\n",
    "-  금융변수(외환, 주가)와 관련된 이론 및 관련 연구를 심도 있게 공부한다. 본 교과에서는 python의 programming 방법보다는 다양한 library/package를 경제/재무에서 배운 모형에 활용하는데 주안점을 둔다. \n",
    "\n",
    "-  또한 최근 많은 관심을 끌고 있는데 machine learning의 다양한 python알고리즘을 소개하고 재무분야에서 어떻게 활용되고 있는지 소개한다. python에 대한 사전 지식이 필요한 것은 아니지만, 통계학, 거시경제학의 사전 지식은 교과목표를 달성하는데 도움이 될 것으로 판단된다. \n",
    "\n",
    "교과의 목표를 요약하면 <br>\n",
    "**‘Introduction to financial big data and machine learning using Python’**"
   ]
  },
  {
   "cell_type": "markdown",
   "metadata": {},
   "source": [
    "## 수업방법"
   ]
  },
  {
   "cell_type": "markdown",
   "metadata": {},
   "source": [
    "-  첫 12주 까지는 강의 나머지 2주는 학생들의 term paper presentation 위주로 교과가 진행될 예정\n",
    "\n",
    "  - 여기서 ‘주(週)’는 학교의 학사일정 주와 다름. 중간고사와 학기말 기간을 감안한 총 강의 소요 시간을 의미함."
   ]
  },
  {
   "cell_type": "markdown",
   "metadata": {},
   "source": [
    "## Requirement"
   ]
  },
  {
   "cell_type": "markdown",
   "metadata": {},
   "source": [
    " -학생들은 2명으로 구성된 팀을 만들어 term-paper-by-team의 형식으로 금융 시장 자료를 분석\n",
    " \n",
    "  -  Term paper는 <br>\n",
    "    ① Yahoo, Google, Quandl, Morningstar, Fred 등의 public domain에서 python을 통해 자료 구득  <br>\n",
    "    ② 해당 자료의 기초 통계량 및 통계 분석 포함  <br>\n",
    "    ③ 자산가격 결정 모형, machine learning algorithm, 시계열 모형 중 최소 하나의 내용이 받듯이 포함"
   ]
  },
  {
   "cell_type": "markdown",
   "metadata": {},
   "source": [
    "##  Textbook or reference"
   ]
  },
  {
   "cell_type": "markdown",
   "metadata": {},
   "source": [
    "-  Lecture note (mostly jupyter notebooks)\n",
    "-  Yves Hilpisch, 『Python for Finace』:Analyze Big Finance Data , 2014, O’Reilly\n",
    "         * caution: this book is using python 2.* rather than 3.* as in lecture\n",
    "-  Yves Hilpisch, 『Python for Finace』:Matering Data Driven Finance , 2018(예정), O’Reilly\n",
    "-  Jake VanderPlas, 『Python Data Science handbook』, 2016, O’Reilly."
   ]
  },
  {
   "cell_type": "markdown",
   "metadata": {},
   "source": [
    "-  Marcos Lopez de Prado, 『Advanced in Financial Machine Learning』, 2018, Wiley.\n",
    "-  Yuxing Yan, 『Python for Finance』, Packt, 2017\n",
    "      * really for reference. not well organized and coding is not working sometimes. However, a couple of chapters are good for application.\n",
    "-  Lasse Heje Pedersen, 『Efficiently Inefficient』, 2015, Princeton Univ. Press"
   ]
  },
  {
   "cell_type": "markdown",
   "metadata": {},
   "source": [
    "##  Grading"
   ]
  },
  {
   "cell_type": "markdown",
   "metadata": {},
   "source": [
    "- 중간/기말: 각 30%\n",
    "- 숙제/퀴즈: 15%\n",
    "- 발표: 10%\n",
    "- Term Paper: 15%"
   ]
  },
  {
   "cell_type": "markdown",
   "metadata": {},
   "source": [
    "## Term paper related"
   ]
  },
  {
   "cell_type": "markdown",
   "metadata": {},
   "source": [
    "- 2018년 9월 21일: 팀구성 완료\n",
    "- 2018년 10월 12일: TP outline 및 기초통계량 제출\n",
    "- 2018년 11월 16일: draft/presentation 제출 \n",
    "    * draft 와 presentation이 동일해도 무방(파일 형식 무방)"
   ]
  },
  {
   "cell_type": "markdown",
   "metadata": {},
   "source": [
    "## Overall Schedule"
   ]
  },
  {
   "cell_type": "markdown",
   "metadata": {},
   "source": [
    "가. python 소개(2주) <br>\n",
    "     installing jupyter notebook, basic commands  <br>\n",
    "나. Numpy 소개 (1주) <br>\n",
    "다. Panda 및 금융자료 응용(3주) <br>\n",
    "라. Time series 소개 (2.5주)  <br>\n",
    "마. 자산가격 결정 모형 소개(2주)  <br>\n",
    "    CAPM, 3-Factor, mea variance frontier <br>\n",
    "바. machine learning 소개(0.5주)<br>\n",
    "사. machine learning algorithm소개(2주) 및 금융분야 응용"
   ]
  }
 ],
 "metadata": {
  "kernelspec": {
   "display_name": "Python 3",
   "language": "python",
   "name": "python3"
  },
  "language_info": {
   "codemirror_mode": {
    "name": "ipython",
    "version": 3
   },
   "file_extension": ".py",
   "mimetype": "text/x-python",
   "name": "python",
   "nbconvert_exporter": "python",
   "pygments_lexer": "ipython3",
   "version": "3.6.5"
  }
 },
 "nbformat": 4,
 "nbformat_minor": 2
}
