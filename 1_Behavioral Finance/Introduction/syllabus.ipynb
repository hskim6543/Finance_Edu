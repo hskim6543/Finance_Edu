{
 "cells": [
  {
   "cell_type": "markdown",
   "metadata": {},
   "source": [
    "## Objective"
   ]
  },
  {
   "cell_type": "markdown",
   "metadata": {},
   "source": [
    "-  본 교과의 목표는 \n",
    "  -  재무경제학의 기본모형 이해, \n",
    "  -  자산가격결정 모형의 puzzle, \n",
    "  -  행태주의 경제학의 기본개념과 주요 논문, \n",
    "  -  미시적 구조 관련 변수 개념 및 해석 등을 공부\n",
    "  \n",
    "  \n",
    "-  가능하다면 미시적 구조 관련 변수들이 machine learning에 어떻게 활용되고 있는지에 대한 최근 동향을 다룰 예정 "
   ]
  },
  {
   "cell_type": "markdown",
   "metadata": {},
   "source": [
    "## 수업방법"
   ]
  },
  {
   "cell_type": "markdown",
   "metadata": {},
   "source": [
    "-  첫 12주 까지는 강의 나머지 2주는 학생들의 term paper presentation 위주로 교과가 진행될 예정\n",
    "\n",
    "  - 여기서 ‘주(週)’는 학교의 학사일정 주와 다름. 중간고사와 학기말 기간을 감안한 총 강의 소요 시간을 의미함."
   ]
  },
  {
   "cell_type": "markdown",
   "metadata": {},
   "source": [
    "## Requirement"
   ]
  },
  {
   "cell_type": "markdown",
   "metadata": {},
   "source": [
    " - term paper OR  \n",
    " \n",
    " - Another stuff"
   ]
  },
  {
   "cell_type": "markdown",
   "metadata": {
    "slideshow": {
     "slide_type": "slide"
    }
   },
   "source": [
    "##  Textbook / reference"
   ]
  },
  {
   "cell_type": "markdown",
   "metadata": {},
   "source": [
    "-  Lecture note (jupyter notebooks, ppts)  \n",
    "-  E. Burton and S. Shah, 『Behavioral Finance: Understanding the Social, Cognitive, and Economic Debates』, 2013, Wiley\n",
    "-  Jake VanderPlas, 『Python Data Science handbook』, 2016, O’Reilly."
   ]
  },
  {
   "cell_type": "markdown",
   "metadata": {},
   "source": [
    "##  Grading"
   ]
  },
  {
   "cell_type": "markdown",
   "metadata": {},
   "source": [
    "- 중간/기말: 각 30%\n",
    "- 숙제/퀴즈: 15%\n",
    "- 발표: 10%\n",
    "- Term Paper: 15%"
   ]
  },
  {
   "cell_type": "markdown",
   "metadata": {},
   "source": [
    "## Term paper related  (if term paper required)"
   ]
  },
  {
   "cell_type": "markdown",
   "metadata": {},
   "source": [
    "- 2018년 9월 21일: 팀구성 완료\n",
    "- 2018년 10월 12일: TP outline 및 기초통계량 제출\n",
    "- 2018년 11월 16일: draft/presentation 제출 \n",
    "    * draft 와 presentation이 동일해도 무방(파일 형식 무방)"
   ]
  },
  {
   "cell_type": "markdown",
   "metadata": {},
   "source": [
    "## Overall Schedule"
   ]
  },
  {
   "cell_type": "markdown",
   "metadata": {},
   "source": [
    "1. EMH(Efficient Market Hypothesis) \n",
    "2. Asset pricing related model <br>\n",
    "      -Markowitz mean variance analysis <br>\n",
    "      -CAPM: theory and data analysis  <br>\n",
    "      -Factor model: Fama-French model <br>\n",
    "      -Equity premium puzzle  <br>\n",
    "3. Behavioral finance: <br>\n",
    "      -Introduction  <br>\n",
    "      -Noise Trader models  <br>\n",
    "      -Prospect theory  <br>\n",
    "4. Microstructure finance  <br>\n",
    "      -relevant variables (bid-ask spread, volume, order flow)  <br>\n",
    "      -role of private information <br>\n",
    "      -how to estimate or implement them with data?  <br>\n",
    "5. Machine learning 소개(잠정)"
   ]
  },
  {
   "cell_type": "code",
   "execution_count": null,
   "metadata": {},
   "outputs": [],
   "source": []
  },
  {
   "cell_type": "code",
   "execution_count": null,
   "metadata": {},
   "outputs": [],
   "source": []
  }
 ],
 "metadata": {
  "kernelspec": {
   "display_name": "Python 3",
   "language": "python",
   "name": "python3"
  },
  "language_info": {
   "codemirror_mode": {
    "name": "ipython",
    "version": 3
   },
   "file_extension": ".py",
   "mimetype": "text/x-python",
   "name": "python",
   "nbconvert_exporter": "python",
   "pygments_lexer": "ipython3",
   "version": "3.6.4"
  }
 },
 "nbformat": 4,
 "nbformat_minor": 2
}
